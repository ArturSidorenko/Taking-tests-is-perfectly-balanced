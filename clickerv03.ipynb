{
 "cells": [
  {
   "cell_type": "code",
   "execution_count": 194,
   "metadata": {},
   "outputs": [],
   "source": [
    "import pyautogui\n",
    "import pandas as pd\n",
    "import time\n",
    "from bs4 import BeautifulSoup\n",
    "import cv2\n",
    "import pyperclip\n",
    "import re"
   ]
  },
  {
   "cell_type": "code",
   "execution_count": 195,
   "metadata": {},
   "outputs": [],
   "source": [
    "def read_file(filename):\n",
    "    with open(filename, encoding='utf-8') as input_file:\n",
    "        text = input_file.read()\n",
    "    return text\n",
    "\n",
    "def parse(t):\n",
    "    t = read_file('tests.html')\n",
    "    u = BeautifulSoup(t)\n",
    "    lig = u.find_all(['h3','strong'])\n",
    "    lique = u.find_all(['h3'])\n",
    "    li2 = []\n",
    "    lique2=[]\n",
    "    for item in lig:\n",
    "        s = item.text[3:]\n",
    "        li2.append(clean_str(s))\n",
    "    for item in lique:\n",
    "        s = item.text[3:]\n",
    "        lique2.append(clean_str(s))\n",
    "    dic={}\n",
    "    li3=[]\n",
    "    q=\"\"\n",
    "    for item in li2:\n",
    "        if item in lique2:\n",
    "            dic[q]=li3\n",
    "            q = item\n",
    "            if item in dic.keys():\n",
    "                li3 = dic[item]\n",
    "            else:\n",
    "                li3 = []\n",
    "        else:\n",
    "            li3.append(item)\n",
    "    prev = []\n",
    "    if q in dic.keys():\n",
    "        prev = dic[q]\n",
    "    dic[q] = prev+li3\n",
    "    return dic\n",
    "\n",
    "def find_ans(filename):\n",
    "    t = read_file(filename)\n",
    "    return parse(t)\n",
    "\n",
    "def clean_str(data):\n",
    "    data = data.lower()\n",
    "    bad_characters = [';', ':', ' ', '+', '\\r', '\\n', '-', \n",
    "                     '.', '?', ',', '\\t', '_', ]\n",
    "    for k in bad_characters:\n",
    "        data = data.replace(k, '')\n",
    "    \n",
    "    #pattern = re.compile('^[a-z, а-я, 0-9]*')\n",
    "    #result = pattern.findall(data)\n",
    "\n",
    "    return data"
   ]
  },
  {
   "cell_type": "code",
   "execution_count": null,
   "metadata": {},
   "outputs": [],
   "source": []
  },
  {
   "cell_type": "code",
   "execution_count": 196,
   "metadata": {},
   "outputs": [],
   "source": [
    "def get_coord(boxy):\n",
    "    return (boxy[0] + 30, boxy[1]+5) \n",
    "\n",
    "def get_buttoms():\n",
    "    boxes = list(pyautogui.locateAllOnScreen(\n",
    "        'pics/box.png',confidence=0.8, grayscale=True))\n",
    "    radios = list(pyautogui.locateAllOnScreen(\n",
    "        'pics/radio.png',confidence=0.8,grayscale=True))\n",
    "    radios_ticked = list(pyautogui.locateAllOnScreen(\n",
    "        'pics/radio_ticked.png',confidence=0.8,grayscale=True))\n",
    "    return boxes+radios+radios_ticked\n",
    "\n",
    "def take_clip(i):\n",
    "    pyautogui.moveTo(get_coord(i))\n",
    "    pyautogui.click(clicks=3, interval=0.3)\n",
    "    pyautogui.hotkey('ctrl', 'c')\n",
    "    data = pyperclip.paste()\n",
    "    \n",
    "    pyautogui.moveTo(get_coord(i))\n",
    "    pyautogui.click(clicks=1, interval=0.3)\n",
    "    \n",
    "    data = clean_str(data)\n",
    "    \n",
    "    return data\n",
    "\n",
    "def get_question():\n",
    "    p=list(pyautogui.locateCenterOnScreen(\"pics/que.png\", confidence=0.7))\n",
    "    q = list(pyautogui.locateCenterOnScreen(\"pics/pick.png\", confidence=0.7))\n",
    "    p[0] = 0.5*(p[0]+q[0])\n",
    "    p[1] = 0.5*(p[1]+q[1])\n",
    "    pyautogui.moveTo(p)\n",
    "    pyautogui.click(clicks=3, interval=0.2)\n",
    "    pyautogui.hotkey('ctrl', 'c')\n",
    "    data = pyperclip.paste()\n",
    "    data = clean_str(data)\n",
    "    return data"
   ]
  },
  {
   "cell_type": "code",
   "execution_count": 197,
   "metadata": {},
   "outputs": [],
   "source": [
    "def click_the_buttom(filename):\n",
    "    p = pyautogui.locateCenterOnScreen(filename, confidence=0.7)\n",
    "    pyautogui.moveTo(p[0],p[1],1.2,pyautogui.easeOutQuad)\n",
    "    pyautogui.click()\n",
    "    time.sleep(2)\n",
    "    \n",
    "\n",
    "def save_page(filename):\n",
    "    click_the_buttom('pics/question.png')\n",
    "    time.sleep(1)\n",
    "    pyautogui.hotkey('ctrl', 's')\n",
    "    time.sleep(0.5)\n",
    "    pyautogui.write(filename, interval=0.2)\n",
    "    pyautogui.press('enter')\n",
    "    time.sleep(1.5)\n",
    "    #in case of overwriting\n",
    "    pyautogui.press('left')\n",
    "    pyautogui.press('enter')\n",
    "    time.sleep(5)"
   ]
  },
  {
   "cell_type": "code",
   "execution_count": 179,
   "metadata": {},
   "outputs": [],
   "source": [
    "def get_preliminary_test():\n",
    "    #click_the_buttom('goto_1.png')\n",
    "    #click_the_buttom('final_test.png')\n",
    "    #click_the_buttom('GO.png')\n",
    "    \n",
    "    #click_the_buttom('get_new_test.png')\n",
    "    click_the_buttom('pics/test_uncompl.png')\n",
    "    click_the_buttom('pics/to_the_first_question.png')"
   ]
  },
  {
   "cell_type": "code",
   "execution_count": 180,
   "metadata": {},
   "outputs": [
    {
     "ename": "KeyboardInterrupt",
     "evalue": "",
     "output_type": "error",
     "traceback": [
      "\u001b[1;31m---------------------------------------------------------------------------\u001b[0m",
      "\u001b[1;31mKeyboardInterrupt\u001b[0m                         Traceback (most recent call last)",
      "\u001b[1;32m<ipython-input-180-98fb9688040c>\u001b[0m in \u001b[0;36m<module>\u001b[1;34m\u001b[0m\n\u001b[1;32m----> 1\u001b[1;33m \u001b[0msave_page\u001b[0m\u001b[1;33m(\u001b[0m\u001b[1;34m'curr_que'\u001b[0m\u001b[1;33m)\u001b[0m\u001b[1;33m\u001b[0m\u001b[1;33m\u001b[0m\u001b[0m\n\u001b[0m",
      "\u001b[1;32m<ipython-input-178-b770fd05d1cc>\u001b[0m in \u001b[0;36msave_page\u001b[1;34m(filename)\u001b[0m\n\u001b[0;32m     13\u001b[0m     \u001b[0mpyautogui\u001b[0m\u001b[1;33m.\u001b[0m\u001b[0mwrite\u001b[0m\u001b[1;33m(\u001b[0m\u001b[0mfilename\u001b[0m\u001b[1;33m,\u001b[0m \u001b[0minterval\u001b[0m\u001b[1;33m=\u001b[0m\u001b[1;36m0.2\u001b[0m\u001b[1;33m)\u001b[0m\u001b[1;33m\u001b[0m\u001b[1;33m\u001b[0m\u001b[0m\n\u001b[0;32m     14\u001b[0m     \u001b[0mpyautogui\u001b[0m\u001b[1;33m.\u001b[0m\u001b[0mpress\u001b[0m\u001b[1;33m(\u001b[0m\u001b[1;34m'enter'\u001b[0m\u001b[1;33m)\u001b[0m\u001b[1;33m\u001b[0m\u001b[1;33m\u001b[0m\u001b[0m\n\u001b[1;32m---> 15\u001b[1;33m     \u001b[0mtime\u001b[0m\u001b[1;33m.\u001b[0m\u001b[0msleep\u001b[0m\u001b[1;33m(\u001b[0m\u001b[1;36m1.5\u001b[0m\u001b[1;33m)\u001b[0m\u001b[1;33m\u001b[0m\u001b[1;33m\u001b[0m\u001b[0m\n\u001b[0m\u001b[0;32m     16\u001b[0m     \u001b[1;31m#in case of overwriting\u001b[0m\u001b[1;33m\u001b[0m\u001b[1;33m\u001b[0m\u001b[1;33m\u001b[0m\u001b[0m\n\u001b[0;32m     17\u001b[0m     \u001b[0mpyautogui\u001b[0m\u001b[1;33m.\u001b[0m\u001b[0mpress\u001b[0m\u001b[1;33m(\u001b[0m\u001b[1;34m'left'\u001b[0m\u001b[1;33m)\u001b[0m\u001b[1;33m\u001b[0m\u001b[1;33m\u001b[0m\u001b[0m\n",
      "\u001b[1;31mKeyboardInterrupt\u001b[0m: "
     ]
    }
   ],
   "source": [
    "save_page('curr_que')"
   ]
  },
  {
   "cell_type": "code",
   "execution_count": 193,
   "metadata": {},
   "outputs": [
    {
     "data": {
      "text/plain": [
       "[Box(left=574, top=535, width=18, height=18),\n",
       " Box(left=574, top=585, width=18, height=18),\n",
       " Box(left=574, top=636, width=18, height=18)]"
      ]
     },
     "execution_count": 193,
     "metadata": {},
     "output_type": "execute_result"
    }
   ],
   "source": [
    "b=get_buttoms()\n",
    "b"
   ]
  },
  {
   "cell_type": "code",
   "execution_count": 187,
   "metadata": {},
   "outputs": [],
   "source": [
    "dic = find_ans('tea'+'.html')"
   ]
  },
  {
   "cell_type": "code",
   "execution_count": 106,
   "metadata": {},
   "outputs": [
    {
     "data": {
      "text/plain": [
       "['качественные']"
      ]
     },
     "execution_count": 106,
     "metadata": {},
     "output_type": "execute_result"
    }
   ],
   "source": [
    "dic['сточкизренияматематическойстатистикиданныеподразделяютна']"
   ]
  },
  {
   "cell_type": "code",
   "execution_count": 199,
   "metadata": {},
   "outputs": [],
   "source": [
    "for k in range(1): \n",
    "    ans=[]\n",
    "    q = get_question()\n",
    "    answers = dic[q]\n",
    "\n",
    "    butt = get_buttoms()\n",
    "    \n",
    "    for b in butt:\n",
    "        item = take_clip(b)\n",
    "        #print(item)\n",
    "        ans.append(item)\n",
    "    \n",
    "    for i,b in enumerate(butt):\n",
    "        if ans[i] in answers:\n",
    "            pyautogui.moveTo(get_coord(b))\n",
    "            pyautogui.click(clicks=1, interval=0.3)\n",
    "\n",
    "    p = pyautogui.locateCenterOnScreen('pics/next.png', confidence=0.7)\n",
    "    pyautogui.moveTo(p)\n",
    "    pyautogui.click()"
   ]
  },
  {
   "cell_type": "code",
   "execution_count": null,
   "metadata": {},
   "outputs": [],
   "source": []
  }
 ],
 "metadata": {
  "kernelspec": {
   "display_name": "Python 3",
   "language": "python",
   "name": "python3"
  },
  "language_info": {
   "codemirror_mode": {
    "name": "ipython",
    "version": 3
   },
   "file_extension": ".py",
   "mimetype": "text/x-python",
   "name": "python",
   "nbconvert_exporter": "python",
   "pygments_lexer": "ipython3",
   "version": "3.8.3"
  }
 },
 "nbformat": 4,
 "nbformat_minor": 4
}
